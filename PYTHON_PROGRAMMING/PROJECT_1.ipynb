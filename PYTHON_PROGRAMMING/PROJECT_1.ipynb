{
  "nbformat": 4,
  "nbformat_minor": 0,
  "metadata": {
    "colab": {
      "provenance": []
    },
    "kernelspec": {
      "name": "python3",
      "display_name": "Python 3"
    },
    "language_info": {
      "name": "python"
    }
  },
  "cells": [
    {
      "cell_type": "code",
      "execution_count": 13,
      "metadata": {
        "id": "wB776tQxBXjQ"
      },
      "outputs": [],
      "source": [
        "import openpyxl as xl\n",
        "from openpyxl.chart import BarChart, Reference\n",
        "wb = xl.load_workbook('/content/transactions.xlsx')"
      ]
    },
    {
      "cell_type": "code",
      "source": [
        "sheet = wb['Sheet1']\n"
      ],
      "metadata": {
        "id": "XDJm-Yh6CyDf"
      },
      "execution_count": 14,
      "outputs": []
    },
    {
      "cell_type": "code",
      "source": [
        "print(cell.value)"
      ],
      "metadata": {
        "colab": {
          "base_uri": "https://localhost:8080/"
        },
        "id": "o2ogs01dC_mE",
        "outputId": "fa0d418c-71a9-4ba9-e7a4-f02565734d9b"
      },
      "execution_count": 15,
      "outputs": [
        {
          "output_type": "stream",
          "name": "stdout",
          "text": [
            "7.95\n"
          ]
        }
      ]
    },
    {
      "cell_type": "code",
      "source": [
        "print(sheet.max_row)"
      ],
      "metadata": {
        "colab": {
          "base_uri": "https://localhost:8080/"
        },
        "id": "kKXW5bqRDH22",
        "outputId": "01f89a65-f197-42e9-a4d0-89696031bdd4"
      },
      "execution_count": 16,
      "outputs": [
        {
          "output_type": "stream",
          "name": "stdout",
          "text": [
            "4\n"
          ]
        }
      ]
    },
    {
      "cell_type": "code",
      "source": [
        "for row in range(2, sheet.max_row + 1):\n",
        "  cell = sheet.cell(row, 3)\n",
        "  corrected_price = cell.value * 0.9\n",
        "  correcte_price_cell = sheet.cell(row,4)\n",
        "  correcte_price_cell.value = corrected_price\n",
        "\n",
        "values = Reference(sheet, min_row=2, max_row=sheet.max_row, min_col=4, max_col=4)\n",
        "chart = BarChart()\n",
        "chart.add_data(values)\n",
        "sheet.add_chart(chart, 'e2')\n",
        "wb.save('/content/transactions.xlsx')\n"
      ],
      "metadata": {
        "id": "jEFMFrApEvwR"
      },
      "execution_count": 17,
      "outputs": []
    }
  ]
}